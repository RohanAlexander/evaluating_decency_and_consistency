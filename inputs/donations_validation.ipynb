{
 "cells": [
  {
   "cell_type": "code",
   "execution_count": 46,
   "metadata": {},
   "outputs": [],
   "source": [
    "# importing all packages\n",
    "import great_expectations as gx\n",
    "import psycopg2\n",
    "import pandas as pd\n",
    "import numpy as np\n",
    "import logging\n",
    "import csv\n",
    "import json\n",
    "\n",
    "# Import the 'config' funtion from the config.py file\n",
    "from config import config\n",
    "\n",
    "logging.basicConfig(level=logging.INFO,\n",
    "                    format='%(asctime)s %(levelname)-8s %(message)s',\n",
    "                    datefmt='%Y-%m-%d %H:%M:%S')\n",
    "logger = logging.getLogger(__name__)\n",
    "\n",
    "logger.handlers = []\n",
    "logger.setLevel(logging.INFO)\n",
    "\n",
    "\n",
    "params = config()\n",
    "conn = psycopg2.connect(**params)\n",
    "cur = conn.cursor()\n",
    "\n",
    "def create_pandas_table(sql_query, database = conn):\n",
    "    table = pd.read_sql_query(sql_query, database)\n",
    "    return table"
   ]
  },
  {
   "cell_type": "code",
   "execution_count": 47,
   "metadata": {},
   "outputs": [
    {
     "name": "stderr",
     "output_type": "stream",
     "text": [
      "2023-08-14 09:12:16 WARNING  /var/folders/96/_7q9mlsj0vl4n2jyl57mk42h0000gn/T/ipykernel_95283/1660043112.py:27: UserWarning: pandas only supports SQLAlchemy connectable (engine/connection) or database string URI or sqlite3 DBAPI2 connection. Other DBAPI2 objects are not tested. Please consider using SQLAlchemy.\n",
      "  table = pd.read_sql_query(sql_query, database)\n",
      "\n"
     ]
    }
   ],
   "source": [
    "donations_mv = create_pandas_table(\"SELECT * FROM donations_mv\")"
   ]
  },
  {
   "cell_type": "code",
   "execution_count": null,
   "metadata": {},
   "outputs": [],
   "source": [
    "# read in the data tables\n",
    "donations_mv = create_pandas_table(\"SELECT * FROM donations_mv\")\n",
    "\n",
    "# convert amount to numeric from string, removing dollar sign and comma\n",
    "donations_mv['amount'] = donations_mv['amount'].str.replace('$', '', regex=True)\n",
    "donations_mv['amount'] = donations_mv['amount'].str.replace(',', '', regex=True)\n",
    "donations_mv['amount'] = pd.to_numeric(donations_mv['amount'])\n",
    "\n",
    "# create \"expect total\" variable which we will use later on\n",
    "donations_mv = donations_mv.assign(expect_total = donations_mv['amount_monetary'] + donations_mv['amount_non_monetary'])\n",
    "\n",
    "# convert total and amount to numeric\n",
    "donations_mv['expect_total'] = pd.to_numeric(donations_mv['expect_total'])\n",
    "\n",
    "# add column with difference between amount and expected total\n",
    "donations_mv = donations_mv.assign(diff = donations_mv['amount']-donations_mv['expect_total'])\n",
    "\n",
    "# add absolute diff column\n",
    "donations_mv['diff_abs'] = donations_mv['diff'].abs()"
   ]
  },
  {
   "cell_type": "code",
   "execution_count": null,
   "metadata": {},
   "outputs": [],
   "source": [
    "# Close the cursor and connection to so the server can allocate\n",
    "# bandwidth to other requests\n",
    "cur.close()\n",
    "conn.close()"
   ]
  },
  {
   "attachments": {},
   "cell_type": "markdown",
   "metadata": {},
   "source": [
    "https://github.com/great-expectations/great_expectations/blob/develop/docs_rtd/guides/tutorials/explore_expectations_in_a_notebook.rst"
   ]
  },
  {
   "cell_type": "code",
   "execution_count": null,
   "metadata": {},
   "outputs": [],
   "source": [
    "# to run expectations, data need to be defined like this\n",
    "donations_mv = gx.from_pandas(donations_mv)"
   ]
  },
  {
   "cell_type": "code",
   "execution_count": null,
   "metadata": {},
   "outputs": [],
   "source": [
    "##### EXPECTATION 1 #####\n",
    "# expectations for nothing to be null in any column of donations details\n",
    "donations_mv.expect_column_values_to_not_be_null(column='amount')"
   ]
  },
  {
   "cell_type": "code",
   "execution_count": null,
   "metadata": {},
   "outputs": [],
   "source": [
    "##### EXPECTATION 1 #####\n",
    "# expectations for nothing to be null in any column of donations details\n",
    "donations_mv.expect_column_values_to_not_be_null(column='donor_full_name')"
   ]
  },
  {
   "cell_type": "code",
   "execution_count": null,
   "metadata": {},
   "outputs": [],
   "source": [
    "##### EXPECTATION 1 #####\n",
    "# expectations for nothing to be null in any column of donations details\n",
    "donations_mv.expect_column_values_to_not_be_null(column='political_party')"
   ]
  },
  {
   "cell_type": "code",
   "execution_count": null,
   "metadata": {},
   "outputs": [],
   "source": [
    "##### EXPECTATION 1 #####\n",
    "# expectations for nothing to be null in any column of donations details\n",
    "donations_mv.expect_column_values_to_not_be_null(column='region')"
   ]
  },
  {
   "cell_type": "code",
   "execution_count": null,
   "metadata": {},
   "outputs": [],
   "source": [
    "##### EXPECTATION 1 #####\n",
    "# expectations for nothing to be null in any column of donations details\n",
    "donations_mv.expect_column_values_to_not_be_null(column='donation_date',\n",
    "                                                row_condition = 'region in [\"Federal\", \"Ontario\", \"British Columbia\"]',\n",
    "                                                condition_parser = 'pandas')"
   ]
  },
  {
   "cell_type": "code",
   "execution_count": null,
   "metadata": {},
   "outputs": [],
   "source": [
    "##### EXPECTATION 1 #####\n",
    "# expectations for nothing to be null in any column of donations details\n",
    "donations_mv.expect_column_values_to_not_be_null(column='donation_year')"
   ]
  },
  {
   "cell_type": "code",
   "execution_count": null,
   "metadata": {},
   "outputs": [],
   "source": [
    "##### EXPECTATION 1 #####\n",
    "# expectations for nothing to be null in any column of donations details\n",
    "donations_mv.expect_column_values_to_not_be_null(column='recipient')"
   ]
  },
  {
   "cell_type": "code",
   "execution_count": null,
   "metadata": {},
   "outputs": [],
   "source": [
    "##### EXPECTATION 1 #####\n",
    "# expectations for nothing to be null in any column of donations details\n",
    "donations_mv.expect_column_values_to_not_be_null(column='political_entity')"
   ]
  },
  {
   "attachments": {},
   "cell_type": "markdown",
   "metadata": {},
   "source": [
    "For these:\n",
    "\n",
    "- excluded rows where donor name is \"Contributions of 200/20 or less...\" b/c these are aggregates\n",
    "- excluded estate of and leadership because those are exceptions\n",
    "- TO DO - ask about the leadership political entity filter - should this be \"contestant|Contestant\""
   ]
  },
  {
   "cell_type": "code",
   "execution_count": null,
   "metadata": {},
   "outputs": [],
   "source": [
    "##### EXPECTATION 2 #####\n",
    "# note - no limit for Newfoundland, Yukon, or Saskatchewan so these are excluded from this expectation\n",
    "# FEDERAL\n",
    "donations_mv.expect_column_values_to_be_between(\n",
    "    column = 'amount',\n",
    "    max_value = 1675,\n",
    "    row_condition = 'region==\"Federal\" & donor_full_name.str.contains(\"Contributions Of\")==False & donor_full_name.str.contains(\"Estate Of\")==False & donor_full_name.str.contains(\"Total Anonymous Contributions\")==False & donation_year == 2022 & political_entity.str.contains(\"Leadership\")==False',\n",
    "    condition_parser = 'pandas'\n",
    ")"
   ]
  },
  {
   "cell_type": "code",
   "execution_count": null,
   "metadata": {},
   "outputs": [],
   "source": [
    "##### EXPECTATION 2 #####\n",
    "# NEW BRUNSWICK\n",
    "donations_mv.expect_column_values_to_be_between(\n",
    "    column = 'amount',\n",
    "    max_value = 3000,\n",
    "    row_condition = 'region==\"New Brunswick\" & donor_full_name.str.contains(\"Contributions Of\")==False & donor_full_name.str.contains(\"Estate Of\")==False & donor_full_name.str.contains(\"Total Anonymous Contributions\")==False & donation_year == 2022 & political_entity.str.contains(\"Leadership\")==False',\n",
    "    condition_parser = 'pandas'\n",
    ")"
   ]
  },
  {
   "cell_type": "code",
   "execution_count": null,
   "metadata": {},
   "outputs": [],
   "source": [
    "##### EXPECTATION 2 #####\n",
    "# NOVA SCOTIA\n",
    "donations_mv.expect_column_values_to_be_between(\n",
    "    column = 'amount',\n",
    "    max_value = 5000,\n",
    "    row_condition = 'region==\"Nova Scotia\" & donor_full_name.str.contains(\"Contributions Of\")==False & donor_full_name.str.contains(\"Estate Of\")==False & donor_full_name.str.contains(\"Total Anonymous Contributions\")==False & donation_year == 2022 & political_entity.str.contains(\"Leadership\")==False',\n",
    "    condition_parser = 'pandas'\n",
    ")"
   ]
  },
  {
   "cell_type": "code",
   "execution_count": null,
   "metadata": {},
   "outputs": [],
   "source": [
    "##### EXPECTATION 2 #####\n",
    "# PEI\n",
    "donations_mv.expect_column_values_to_be_between(\n",
    "    column = 'amount',\n",
    "    max_value = 3150,\n",
    "    row_condition = 'region==\"Prince Edward Island\" & donor_full_name.str.contains(\"Contributions Of\")==False & donor_full_name.str.contains(\"Estate Of\")==False & donor_full_name.str.contains(\"Total Anonymous Contributions\")==False & donation_year == 2022 & political_entity.str.contains(\"Leadership\")==False',\n",
    "    condition_parser = 'pandas'\n",
    ")"
   ]
  },
  {
   "cell_type": "code",
   "execution_count": null,
   "metadata": {},
   "outputs": [],
   "source": [
    "##### EXPECTATION 2 #####\n",
    "# Ontario\n",
    "donations_mv.expect_column_values_to_be_between(\n",
    "    column = 'amount',\n",
    "    max_value = 3325,\n",
    "    row_condition = 'region==\"Ontario\" & donor_full_name.str.contains(\"Contributions Of\")==False & donor_full_name.str.contains(\"Estate Of\")==False & donor_full_name.str.contains(\"Total Anonymous Contributions\")==False & donation_year == 2022 & political_entity.str.contains(\"Leadership\")==False',\n",
    "    condition_parser = 'pandas'\n",
    ")"
   ]
  },
  {
   "cell_type": "code",
   "execution_count": null,
   "metadata": {},
   "outputs": [],
   "source": [
    "##### EXPECTATION 2 #####\n",
    "# Manitoba\n",
    "donations_mv.expect_column_values_to_be_between(\n",
    "    column = 'amount',\n",
    "    max_value = 5000,\n",
    "    row_condition = 'region==\"Manitoba\" & donor_full_name.str.contains(\"Contributions Of\")==False & donor_full_name.str.contains(\"Estate Of\")==False & donor_full_name.str.contains(\"Total Anonymous Contributions\")==False & donation_year == 2022 & political_entity.str.contains(\"Leadership\")==False',\n",
    "    condition_parser = 'pandas'\n",
    ")"
   ]
  },
  {
   "cell_type": "code",
   "execution_count": null,
   "metadata": {},
   "outputs": [],
   "source": [
    "##### EXPECTATION 2 #####\n",
    "# Alberta\n",
    "donations_mv.expect_column_values_to_be_between(\n",
    "    column = 'amount',\n",
    "    max_value = 4300,\n",
    "    row_condition = 'region==\"Alberta\" & donor_full_name.str.contains(\"Contributions Of\")==False & donor_full_name.str.contains(\"Estate Of\")==False & donor_full_name.str.contains(\"Total Anonymous Contributions\")==False & donation_year == 2022 & political_entity.str.contains(\"Leadership\")==False',\n",
    "    condition_parser = 'pandas'\n",
    ")"
   ]
  },
  {
   "cell_type": "code",
   "execution_count": null,
   "metadata": {},
   "outputs": [],
   "source": [
    "##### EXPECTATION 2 #####\n",
    "# BC\n",
    "donations_mv.expect_column_values_to_be_between(\n",
    "    column = 'amount',\n",
    "    max_value = 1309.09,\n",
    "    row_condition = 'region==\"British Columbia\" & donor_full_name.str.contains(\"Contributions Of\")==False & donor_full_name.str.contains(\"Estate Of\")==False & donor_full_name.str.contains(\"Total Anonymous Contributions\")==False & donation_year == 2022 & political_entity.str.contains(\"Leadership\")==False',\n",
    "    condition_parser = 'pandas'\n",
    ")"
   ]
  },
  {
   "cell_type": "code",
   "execution_count": null,
   "metadata": {},
   "outputs": [],
   "source": [
    "##### EXPECTATION 2 #####\n",
    "# Quebec\n",
    "# this one is a bit tricky - depends on year, should I just make the max 500?\n",
    "donations_mv.expect_column_values_to_be_between(\n",
    "    column = 'amount',\n",
    "    max_value = 500,\n",
    "    row_condition = 'region==\"Quebec\" & donor_full_name.str.contains(\"Contributions Of\")==False & donor_full_name.str.contains(\"Estate Of\")==False & donor_full_name.str.contains(\"Total Anonymous Contributions\")==False & donation_year == 2022 & political_entity.str.contains(\"Leadership\")==False',\n",
    "    condition_parser = 'pandas'\n",
    ")"
   ]
  },
  {
   "cell_type": "code",
   "execution_count": null,
   "metadata": {},
   "outputs": [],
   "source": [
    "##### EXPECTATION 2 #####\n",
    "# Northwest Territories\n",
    "donations_mv.expect_column_values_to_be_between(\n",
    "    column = 'amount',\n",
    "    max_value = 1500,\n",
    "    row_condition = 'region==\"Northwest Territories\" & donor_full_name.str.contains(\"Contributions Of\")==False & donor_full_name.str.contains(\"Estate Of\")==False & donor_full_name.str.contains(\"Total Anonymous Contributions\")==False & donation_year == 2022 & political_entity.str.contains(\"Leadership\")==False',\n",
    "    condition_parser = 'pandas'\n",
    ")"
   ]
  },
  {
   "cell_type": "code",
   "execution_count": null,
   "metadata": {},
   "outputs": [],
   "source": [
    "##### EXPECTATION 2 #####\n",
    "# Nunavut\n",
    "donations_mv.expect_column_values_to_be_between(\n",
    "    column = 'amount',\n",
    "    max_value = 2500,\n",
    "    row_condition = 'region==\"Nunavut\"& donor_full_name.str.contains(\"Contributions Of\")==False & donor_full_name.str.contains(\"Estate Of\")==False & donor_full_name.str.contains(\"Total Anonymous Contributions\")==False & donation_year == 2022 & political_entity.str.contains(\"Leadership\")==False',\n",
    "    condition_parser = 'pandas'\n",
    ")"
   ]
  },
  {
   "cell_type": "code",
   "execution_count": null,
   "metadata": {},
   "outputs": [],
   "source": [
    "### checking exceptions\n",
    "donations_mv.query('region==\"British Columbia\" & donor_full_name.str.contains(\"Contributions Of\")==False & donor_full_name.str.contains(\"Estate Of\")==False & donor_full_name.str.contains(\"Total Anonymous Contributions\")==False & donation_year == 2022 & political_entity.str.contains(\"Leadership\")==False & amount > 1309.09')\n",
    "\n",
    "donations_mv.query('region==\"Quebec\" & donor_full_name.str.contains(\"Contributions Of\")==False & donor_full_name.str.contains(\"Estate Of\")==False & donor_full_name.str.contains(\"Total Anonymous Contributions\")==False & donation_year == 2022 & political_entity.str.contains(\"Leadership\")==False & amount>500')"
   ]
  },
  {
   "cell_type": "code",
   "execution_count": null,
   "metadata": {},
   "outputs": [],
   "source": [
    "##### EXPECTATION 3 #####\n",
    "# run expectation\n",
    "donations_mv.expect_column_values_to_be_between(\n",
    "    column = 'diff_abs',\n",
    "    max_value = 5,\n",
    "    row_condition = 'donation_year>2000 & expect_total.isna()==False',\n",
    "    condition_parser = 'pandas'\n",
    ")"
   ]
  },
  {
   "cell_type": "code",
   "execution_count": null,
   "metadata": {},
   "outputs": [],
   "source": [
    "donations_mv[(donations_mv.diff_abs > 1) & (donations_mv.expect_total > 0)].sort_values(['diff_abs'], ascending=False)"
   ]
  },
  {
   "cell_type": "code",
   "execution_count": null,
   "metadata": {},
   "outputs": [],
   "source": [
    "donations_mv[(donations_mv.diff_abs > 0) & (donations_mv.expect_total.notna()) & (donations_mv.donation_year>2000)].shape[0]"
   ]
  },
  {
   "cell_type": "code",
   "execution_count": null,
   "metadata": {},
   "outputs": [],
   "source": [
    "# exceptions for the year 2000 are b/c all monetary and non monerary values are both 0. so we exclude the year 2000's data from our test\n",
    "donations_mv.query('region==\"Federal\" & donation_year>=2000 & expect_total.isna()==False & diff_abs>5')[['amount_monetary', 'amount_non_monetary']].drop_duplicates()"
   ]
  },
  {
   "cell_type": "code",
   "execution_count": null,
   "metadata": {},
   "outputs": [],
   "source": [
    "# expectations across all databases\n",
    "# date to match regex format\n",
    "donations_mv.expect_column_values_to_match_regex(column = 'donation_date',\n",
    "                                              regex = '\\\\d{4}-\\\\d{2}-\\\\d{2}',\n",
    "                                              row_condition = \"donation_date.isna()==False\",\n",
    "                                              condition_parser = 'pandas')"
   ]
  },
  {
   "cell_type": "code",
   "execution_count": null,
   "metadata": {},
   "outputs": [],
   "source": [
    "# expectations across all databases\n",
    "# added to never be null\n",
    "donations_mv.expect_column_values_to_not_be_null(column='added')"
   ]
  },
  {
   "cell_type": "code",
   "execution_count": null,
   "metadata": {},
   "outputs": [],
   "source": [
    "# expectations across all databases\n",
    "# define set for comparison\n",
    "regions = set(['British Columbia', 'Ontario', 'Northwest Territories', \n",
    "           'Alberta', 'Federal', 'Yukon', 'Saskatchewan', 'Manitoba',\n",
    "           'Quebec', 'Newfoundland and Labrador', 'Nova Scotia',\n",
    "           'New Brunswick', 'Nunavut', 'Prince Edward Island'])\n",
    "\n",
    "# expect all region values to be within regions set\n",
    "donations_mv.expect_column_values_to_be_in_set(column = 'region',\n",
    "                                               value_set = regions)"
   ]
  },
  {
   "cell_type": "code",
   "execution_count": null,
   "metadata": {},
   "outputs": [],
   "source": [
    "# grab expectation suite with all expectations (not just those with 100% success)\n",
    "donations_mv.get_expectation_suite(discard_failed_expectations=False)"
   ]
  },
  {
   "cell_type": "code",
   "execution_count": null,
   "metadata": {},
   "outputs": [],
   "source": [
    "import json\n",
    "\n",
    "with open( \"donations_expectations.json\", \"w\") as my_file:\n",
    "    my_file.write(\n",
    "        json.dumps(donations_mv.get_expectation_suite(discard_failed_expectations=False).to_json_dict())\n",
    "    )"
   ]
  },
  {
   "cell_type": "code",
   "execution_count": null,
   "metadata": {},
   "outputs": [],
   "source": [
    "# expect donor full name to not be all capital letters\n",
    "# unsure about regex pattern here - but the expectation was a success so that means have no two consecutive uppercase letters in a name\n",
    "donations_mv.expect_column_values_to_not_match_regex(column='donor_full_name',\n",
    "                                                 regex = \"[A-Z]{2,}\")"
   ]
  },
  {
   "cell_type": "code",
   "execution_count": null,
   "metadata": {},
   "outputs": [],
   "source": [
    "# expect donor full name to be in format first name last name (not last name comma first name)\n",
    "donations_mv.expect_column_values_to_not_match_regex(column='donor_full_name',\n",
    "                                                 regex = \", \")"
   ]
  }
 ],
 "metadata": {
  "kernelspec": {
   "display_name": "Python 3",
   "language": "python",
   "name": "python3"
  },
  "language_info": {
   "codemirror_mode": {
    "name": "ipython",
    "version": 3
   },
   "file_extension": ".py",
   "mimetype": "text/x-python",
   "name": "python",
   "nbconvert_exporter": "python",
   "pygments_lexer": "ipython3",
   "version": "3.8.2"
  },
  "orig_nbformat": 4,
  "vscode": {
   "interpreter": {
    "hash": "31f2aee4e71d21fbe5cf8b01ff0e069b9275f58929596ceb00d14d90e3e16cd6"
   }
  }
 },
 "nbformat": 4,
 "nbformat_minor": 2
}
